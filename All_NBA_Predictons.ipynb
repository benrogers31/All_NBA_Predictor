{
 "cells": [
  {
   "cell_type": "code",
   "execution_count": null,
   "metadata": {},
   "outputs": [],
   "source": [
    "import pandas as pd\n",
    "import numpy as np\n",
    "from sklearn.metrics import mean_squared_error, r2_score\n",
    "from sklearn.linear_model import LinearRegression\n",
    "from sklearn.model_selection import train_test_split\n",
    "from sklearn.model_selection import cross_val_score,GridSearchCV\n",
    "from sklearn.svm import SVR\n",
    "from sklearn.tree import DecisionTreeRegressor\n",
    "from sklearn.ensemble import RandomForestRegressor\n",
    "from sklearn import neighbors\n",
    "import plotly.express as px\n",
    "import sklearn.metrics as metrics\n",
    "\n"
   ]
  },
  {
   "cell_type": "markdown",
   "metadata": {},
   "source": [
    "<h2> Retrieving the Data </h2>"
   ]
  },
  {
   "cell_type": "code",
   "execution_count": null,
   "metadata": {},
   "outputs": [],
   "source": [
    "#loading dataframes\n",
    "past_df = pd.read_csv('csv_files/Past_Player_Data.csv')\n",
    "current_df = pd.read_csv('csv_files/Current_players.csv')\n",
    "\n",
    "#Players that have been traded show up more than once so we want to only have them show up once\n",
    "current_df.drop_duplicates('NAME', keep='first', inplace=True)\n",
    "past_df.drop_duplicates(subset=['NAME','AGE'], keep='first', inplace=True)\n",
    "\n",
    "current_df.reset_index(drop=True, inplace=True)\n",
    "past_df.reset_index(drop=True, inplace=True)\n",
    "# current_df = current_df[current_df['PTS'] > 18]\n",
    "# past_df =past_df[past_df['PTS'] > 18]\n",
    "\n",
    "past_df = past_df.fillna(0.000).replace(' ',0)\n",
    "current_df = current_df.fillna(0.000).replace(' ',0)\n",
    "current_df"
   ]
  },
  {
   "cell_type": "code",
   "execution_count": null,
   "metadata": {},
   "outputs": [],
   "source": [
    "past_df.columns"
   ]
  },
  {
   "cell_type": "markdown",
   "metadata": {},
   "source": [
    "<h2> Peparing data and methods </h2>"
   ]
  },
  {
   "cell_type": "code",
   "execution_count": null,
   "metadata": {},
   "outputs": [],
   "source": [
    "features = ['TEAM_STANDING','ALLSTAR', 'PTS', 'TRB', 'AST', 'TS%', 'VORP', 'WS']"
   ]
  },
  {
   "cell_type": "code",
   "execution_count": null,
   "metadata": {},
   "outputs": [],
   "source": [
    "train,test = train_test_split(past_df, test_size = 0.25, random_state = 10)\n",
    "\n",
    "xtrain = train[features]\n",
    "ytrain = train[['ALL_NBA']]\n",
    "\n",
    "xtest = test[features]\n",
    "ytest = test[['ALL_NBA']]\n",
    "\n",
    "xtrain = xtrain.apply(pd.to_numeric)\n",
    "ytrain = ytrain.apply(pd.to_numeric)"
   ]
  },
  {
   "cell_type": "code",
   "execution_count": null,
   "metadata": {},
   "outputs": [],
   "source": [
    "def score(model):\n",
    "    \n",
    "    model.fit(xtrain, ytrain.values.ravel())\n",
    "    y_pred = model.predict(xtest)\n",
    "    \n",
    "    print(\"R2 value is: \" +  str(r2_score(ytest, y_pred)))\n",
    "    \n",
    "    cvs = cross_val_score(model, xtest, ytest.values.ravel(), cv = 4, scoring = 'r2')\n",
    "    print(\"Cross Validation Score is: \" + str(cvs.mean()))"
   ]
  },
  {
   "cell_type": "code",
   "execution_count": null,
   "metadata": {},
   "outputs": [],
   "source": [
    "def print_all_nba_teams(df):\n",
    "    guard_df = df[(df['POS'] == ' PG') | (df['POS'] == ' SG')]\n",
    "    forward_df = df[(df['POS'] == ' SF') | (df['POS'] == ' PF')]\n",
    "    centre_df = df[(df['POS'] == ' C')]\n",
    "\n",
    "    #printing first team\n",
    "\n",
    "    first_team = []\n",
    "\n",
    "    first_team.append(guard_df['NAME'].iloc[0])\n",
    "    first_team.append(guard_df['NAME'].iloc[1])\n",
    "    first_team.append(forward_df['NAME'].iloc[0])\n",
    "    first_team.append(forward_df['NAME'].iloc[1])\n",
    "    first_team.append(centre_df['NAME'].iloc[0])\n",
    "\n",
    "    print(first_team)\n",
    "\n",
    "    second_team = []\n",
    "\n",
    "\n",
    "    second_team.append(guard_df['NAME'].iloc[2])\n",
    "    second_team.append(guard_df['NAME'].iloc[3])\n",
    "    second_team.append(forward_df['NAME'].iloc[2])\n",
    "    second_team.append(forward_df['NAME'].iloc[3])\n",
    "    second_team.append(centre_df['NAME'].iloc[1])\n",
    "\n",
    "    print(second_team)\n",
    "\n",
    "\n",
    "    third_team = []\n",
    "\n",
    "\n",
    "    third_team.append(guard_df['NAME'].iloc[4])\n",
    "    third_team.append(guard_df['NAME'].iloc[5])\n",
    "    third_team.append(forward_df['NAME'].iloc[4])\n",
    "    third_team.append(forward_df['NAME'].iloc[5])\n",
    "    third_team.append(centre_df['NAME'].iloc[2])\n",
    "\n",
    "    print(third_team)\n"
   ]
  },
  {
   "cell_type": "code",
   "execution_count": null,
   "metadata": {},
   "outputs": [],
   "source": [
    "current_df"
   ]
  },
  {
   "cell_type": "code",
   "execution_count": null,
   "metadata": {},
   "outputs": [],
   "source": [
    "#Setting up the current data to be analyzed by each model\n",
    "current_name_df = current_df.iloc[:, 0]\n",
    "current_position_df = current_df.iloc[:, 2]\n",
    "current_players_df = current_df[features]\n",
    "\n",
    "current_players_df = current_players_df.fillna(0)"
   ]
  },
  {
   "cell_type": "markdown",
   "metadata": {},
   "source": [
    "<h2> Support Vector Regression  </h2>\n"
   ]
  },
  {
   "cell_type": "code",
   "execution_count": null,
   "metadata": {},
   "outputs": [],
   "source": [
    "svr = SVR(kernel='rbf', gamma=1e-4, C=100, epsilon = .1)\n",
    "\n",
    "score(svr)"
   ]
  },
  {
   "cell_type": "code",
   "execution_count": null,
   "metadata": {},
   "outputs": [],
   "source": [
    "predict_svr = svr.predict(current_players_df).tolist()\n",
    "\n",
    "\n",
    "players_svr = []\n",
    "\n",
    "svr_df = pd.DataFrame(columns = ['NAME', 'POS', 'ALL_NBA_SCORE'])\n",
    "for (i, j, k) in zip(current_name_df,current_position_df, predict_svr):\n",
    "    \n",
    "    temp = dict()\n",
    "    \n",
    "    temp['NAME'] = i\n",
    "    temp['POS'] = j\n",
    "    temp['ALL_NBA_SCORE'] = k\n",
    "    svr_df = svr_df.append(temp,ignore_index = True)\n",
    "    \n",
    "    \n",
    "svr_df = svr_df.sort_values(by = 'ALL_NBA_SCORE', ascending=False)\n",
    "svr_df"
   ]
  },
  {
   "cell_type": "code",
   "execution_count": null,
   "metadata": {},
   "outputs": [],
   "source": [
    "fig = px.bar(svr_df.head(15), x='NAME', y='ALL_NBA_SCORE',title=\"SVR All-NBA Prediction\", labels={\n",
    "                     \"NAME\": \"Player\",\n",
    "                     'ALL_NBA_SCORE': \"All-NBA Score\"\n",
    "                    \n",
    "                 },)\n",
    "fig.show()\n"
   ]
  },
  {
   "cell_type": "code",
   "execution_count": null,
   "metadata": {},
   "outputs": [],
   "source": [
    "print_all_nba_teams(svr_df)"
   ]
  },
  {
   "cell_type": "markdown",
   "metadata": {},
   "source": [
    "<h2> Linear Regression </h2>"
   ]
  },
  {
   "cell_type": "code",
   "execution_count": null,
   "metadata": {},
   "outputs": [],
   "source": [
    "lr = LinearRegression()\n",
    "score(lr)"
   ]
  },
  {
   "cell_type": "code",
   "execution_count": null,
   "metadata": {},
   "outputs": [],
   "source": [
    "predict_lr = lr.predict(current_players_df).tolist()\n",
    "\n",
    "players_lr = []\n",
    "\n",
    "lr_df = pd.DataFrame(columns = ['NAME', 'POS', 'ALL_NBA_SCORE'])\n",
    "for (i, j, k) in zip(current_name_df,current_position_df, predict_lr):\n",
    "    \n",
    "    temp = dict()\n",
    "    \n",
    "    temp['NAME'] = i\n",
    "    temp['POS'] = j\n",
    "    temp['ALL_NBA_SCORE'] = k\n",
    "    lr_df = lr_df.append(temp,ignore_index = True)\n",
    "    \n",
    "    \n",
    "lr_df = lr_df.sort_values(by = 'ALL_NBA_SCORE', ascending=False)\n",
    "lr_df.head(30)"
   ]
  },
  {
   "cell_type": "code",
   "execution_count": null,
   "metadata": {},
   "outputs": [],
   "source": [
    "fig = px.bar(lr_df.head(15), x='NAME', y='ALL_NBA_SCORE',title=\"LR All-NBA Prediction\", labels={\n",
    "                     \"NAME\": \"Player\",\n",
    "                     'ALL_NBA_SCORE': \"All-NBA Score\"\n",
    "                    \n",
    "                 },)\n",
    "fig.show()"
   ]
  },
  {
   "cell_type": "code",
   "execution_count": null,
   "metadata": {},
   "outputs": [],
   "source": [
    "print_all_nba_teams(lr_df)"
   ]
  },
  {
   "cell_type": "markdown",
   "metadata": {},
   "source": [
    "<h2> Descion Tree Regression </h2>"
   ]
  },
  {
   "cell_type": "code",
   "execution_count": null,
   "metadata": {},
   "outputs": [],
   "source": [
    "parameters = {\n",
    "    'max_depth': [10, 20, 30, 40, 50, 60, 70, 80, 90, 100, None],\n",
    "    'max_features': ['auto', 'sqrt'],\n",
    "    'min_samples_leaf': [1, 2, 4],\n",
    "             }\n",
    "\n",
    "gs_clf = GridSearchCV(DecisionTreeRegressor(), parameters, n_jobs=-1,verbose=10)\n",
    "gs_clf = gs_clf.fit(xtrain, ytrain)\n",
    "print(gs_clf.best_score_)\n",
    "print(gs_clf.best_params_)"
   ]
  },
  {
   "cell_type": "code",
   "execution_count": null,
   "metadata": {},
   "outputs": [],
   "source": [
    "#I like the output of the model without the hyperparameter tuning better but uncomment to see the more tuned model"
   ]
  },
  {
   "cell_type": "code",
   "execution_count": null,
   "metadata": {},
   "outputs": [],
   "source": [
    "dtr = DecisionTreeRegressor(random_state = 31,max_depth= 80,max_features= 'sqrt',min_samples_leaf=4 )\n",
    "#dtr = DecisionTreeRegressor(random_state = 31)\n",
    "\n",
    "score(dtr)\n"
   ]
  },
  {
   "cell_type": "code",
   "execution_count": null,
   "metadata": {},
   "outputs": [],
   "source": [
    "predict_dtr = dtr.predict(current_players_df).tolist()\n",
    "\n",
    "players_dtr = []\n",
    "\n",
    "dtr_df = pd.DataFrame(columns = ['NAME', 'POS', 'ALL_NBA_SCORE'])\n",
    "for (i, j, k) in zip(current_name_df,current_position_df, predict_dtr):\n",
    "    \n",
    "    temp = dict()\n",
    "    \n",
    "    temp['NAME'] = i\n",
    "    temp['POS'] = j\n",
    "    temp['ALL_NBA_SCORE'] = k\n",
    "    dtr_df = dtr_df.append(temp,ignore_index = True)\n",
    "    \n",
    "    \n",
    "dtr_df = dtr_df.sort_values(by = 'ALL_NBA_SCORE', ascending=False)\n",
    "dtr_df"
   ]
  },
  {
   "cell_type": "code",
   "execution_count": null,
   "metadata": {},
   "outputs": [],
   "source": [
    "fig = px.bar(dtr_df.head(15), x='NAME', y='ALL_NBA_SCORE',title=\"DTR All-NBA Prediction\", labels={\n",
    "                     \"NAME\": \"Player\",\n",
    "                     'ALL_NBA_SCORE': \"All-NBA Score\"\n",
    "                    \n",
    "                 },)\n",
    "fig.show()"
   ]
  },
  {
   "cell_type": "code",
   "execution_count": null,
   "metadata": {},
   "outputs": [],
   "source": [
    "print_all_nba_teams(dtr_df)"
   ]
  },
  {
   "cell_type": "markdown",
   "metadata": {},
   "source": [
    "<h2> Random Forest </h2>"
   ]
  },
  {
   "cell_type": "code",
   "execution_count": null,
   "metadata": {},
   "outputs": [],
   "source": [
    "parameters = {\n",
    "    'n_estimators':[100, 200, 400, 600],\n",
    "    'bootstrap': [True, False],\n",
    "    'max_depth': [10, 20, 30, 40, 50, 60, 70, 80, 90, 100, None],\n",
    "    'max_features': ['auto', 'sqrt'],\n",
    "    'min_samples_leaf': [1, 2, 4],\n",
    "    'min_samples_split': [2, 5, 10]\n",
    "             }\n",
    "\n",
    "gs_clf = GridSearchCV(RandomForestRegressor(), parameters, n_jobs=-1,verbose=10)\n",
    "gs_clf = gs_clf.fit(xtrain, ytrain)\n",
    "print(gs_clf.best_score_)\n",
    "print(gs_clf.best_params_)"
   ]
  },
  {
   "cell_type": "markdown",
   "metadata": {},
   "source": [
    "<p> When running grid search on different parameters I found that n_estimators should be 100 and crterion should be mse </p>"
   ]
  },
  {
   "cell_type": "code",
   "execution_count": null,
   "metadata": {},
   "outputs": [],
   "source": [
    "rf = RandomForestRegressor(bootstrap = True, max_depth = 10, max_features = 'sqrt',min_samples_leaf = 2, \n",
    "                           min_samples_split = 2, random_state = 8, n_estimators = 200, criterion = 'mse')\n",
    "score(rf)"
   ]
  },
  {
   "cell_type": "code",
   "execution_count": null,
   "metadata": {},
   "outputs": [],
   "source": [
    "predict_rf = rf.predict(current_players_df).tolist()\n",
    "\n",
    "players_rf = []\n",
    "\n",
    "rf_df = pd.DataFrame(columns = ['NAME', 'POS', 'ALL_NBA_SCORE'])\n",
    "for (i, j, k) in zip(current_name_df,current_position_df, predict_rf):\n",
    "    \n",
    "    temp = dict()\n",
    "    \n",
    "    temp['NAME'] = i\n",
    "    temp['POS'] = j\n",
    "    temp['ALL_NBA_SCORE'] = k\n",
    "    rf_df = rf_df.append(temp,ignore_index = True)\n",
    "    \n",
    "    \n",
    "rf_df = rf_df.sort_values(by = 'ALL_NBA_SCORE', ascending=False)\n",
    "rf_df"
   ]
  },
  {
   "cell_type": "code",
   "execution_count": null,
   "metadata": {},
   "outputs": [],
   "source": [
    "fig = px.bar(rf_df.head(15), x='NAME', y='ALL_NBA_SCORE',title=\"RF All-NBA Prediction\", labels={\n",
    "                     \"NAME\": \"Player\",\n",
    "                     'ALL_NBA_SCORE': \"All-NBA Score\"\n",
    "                    \n",
    "                 },)\n",
    "fig.show()"
   ]
  },
  {
   "cell_type": "code",
   "execution_count": null,
   "metadata": {},
   "outputs": [],
   "source": [
    "print_all_nba_teams(rf_df)"
   ]
  },
  {
   "cell_type": "markdown",
   "metadata": {},
   "source": [
    "<h2> K Nearest Neighbours </h2>"
   ]
  },
  {
   "cell_type": "code",
   "execution_count": null,
   "metadata": {},
   "outputs": [],
   "source": [
    "parameters =  {'weights': ['uniform', 'distance'],\n",
    "               'n_neighbors': [1, 2, 3, 4, 5, 6, 7, 8, 9, 10, 11, 12, 13, 14, 15, 16, 17, 18, 19, 20, 21, 22, 23, 24, 25, 26, 27, 28, 29, 30]\n",
    "              }\n",
    "\n",
    "             \n",
    "\n",
    "gs_clf = GridSearchCV(neighbors.KNeighborsRegressor(), parameters, n_jobs=-1,verbose=10)\n",
    "gs_clf = gs_clf.fit(xtrain, ytrain)\n",
    "print(gs_clf.best_score_)\n",
    "print(gs_clf.best_params_)"
   ]
  },
  {
   "cell_type": "code",
   "execution_count": null,
   "metadata": {},
   "outputs": [],
   "source": [
    "knn = neighbors.KNeighborsRegressor(n_neighbors = 19, weights = 'distance')\n",
    "score(knn)"
   ]
  },
  {
   "cell_type": "code",
   "execution_count": null,
   "metadata": {},
   "outputs": [],
   "source": [
    "predict_knn = knn.predict(current_players_df).tolist()\n",
    "\n",
    "players_knn = []\n",
    "\n",
    "knn_df = pd.DataFrame(columns = ['NAME', 'POS', 'ALL_NBA_SCORE'])\n",
    "for (i, j, k) in zip(current_name_df,current_position_df, predict_knn):\n",
    "    \n",
    "    temp = dict()\n",
    "    \n",
    "    temp['NAME'] = i\n",
    "    temp['POS'] = j\n",
    "    temp['ALL_NBA_SCORE'] = k\n",
    "    knn_df = knn_df.append(temp,ignore_index = True)\n",
    "    \n",
    "    \n",
    "knn_df = knn_df.sort_values(by = 'ALL_NBA_SCORE', ascending=False)\n",
    "knn_df"
   ]
  },
  {
   "cell_type": "code",
   "execution_count": null,
   "metadata": {},
   "outputs": [],
   "source": [
    "fig = px.bar(knn_df.head(15), x='NAME', y='ALL_NBA_SCORE',title=\"KNN All-NBA Prediction\", labels={\n",
    "                     \"NAME\": \"Player\",\n",
    "                     'ALL_NBA_SCORE': \"All-NBA Score\"\n",
    "                    \n",
    "                 },)\n",
    "fig.show()"
   ]
  },
  {
   "cell_type": "code",
   "execution_count": null,
   "metadata": {},
   "outputs": [],
   "source": [
    "print_all_nba_teams(knn_df)"
   ]
  },
  {
   "cell_type": "code",
   "execution_count": null,
   "metadata": {},
   "outputs": [],
   "source": []
  },
  {
   "cell_type": "code",
   "execution_count": null,
   "metadata": {},
   "outputs": [],
   "source": []
  }
 ],
 "metadata": {
  "kernelspec": {
   "display_name": "Python 3",
   "language": "python",
   "name": "python3"
  },
  "language_info": {
   "codemirror_mode": {
    "name": "ipython",
    "version": 3
   },
   "file_extension": ".py",
   "mimetype": "text/x-python",
   "name": "python",
   "nbconvert_exporter": "python",
   "pygments_lexer": "ipython3",
   "version": "3.7.4"
  }
 },
 "nbformat": 4,
 "nbformat_minor": 2
}
